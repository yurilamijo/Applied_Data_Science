{
 "cells": [
  {
   "cell_type": "markdown",
   "id": "f8271d9f",
   "metadata": {},
   "source": [
    "# AUGMENTED RAVDESS Audio preprocessing"
   ]
  },
  {
   "cell_type": "code",
   "execution_count": 1,
   "id": "961473fc",
   "metadata": {
    "scrolled": true
   },
   "outputs": [
    {
     "name": "stdout",
     "output_type": "stream",
     "text": [
      "Defaulting to user installation because normal site-packages is not writeable\n",
      "Looking in indexes: https://pypi.org/simple, https://pypi.ngc.nvidia.com\n",
      "Requirement already satisfied: ipynb in /home/19126778/.local/lib/python3.9/site-packages (0.5.1)\n",
      "Note: you may need to restart the kernel to use updated packages.\n"
     ]
    }
   ],
   "source": [
    "pip install ipynb"
   ]
  },
  {
   "cell_type": "code",
   "execution_count": 6,
   "id": "58bf0366",
   "metadata": {},
   "outputs": [
    {
     "ename": "ModuleNotFoundError",
     "evalue": "No module named 'ipynb.fs.full.augmentation'",
     "output_type": "error",
     "traceback": [
      "\u001b[0;31m---------------------------------------------------------------------------\u001b[0m",
      "\u001b[0;31mModuleNotFoundError\u001b[0m                       Traceback (most recent call last)",
      "\u001b[0;32m/tmp/ipykernel_42280/1096819287.py\u001b[0m in \u001b[0;36m<module>\u001b[0;34m\u001b[0m\n\u001b[1;32m     12\u001b[0m \u001b[0;32mimport\u001b[0m \u001b[0msys\u001b[0m\u001b[0;34m\u001b[0m\u001b[0;34m\u001b[0m\u001b[0m\n\u001b[1;32m     13\u001b[0m \u001b[0msys\u001b[0m\u001b[0;34m.\u001b[0m\u001b[0mpath\u001b[0m\u001b[0;34m.\u001b[0m\u001b[0minsert\u001b[0m\u001b[0;34m(\u001b[0m\u001b[0;36m0\u001b[0m\u001b[0;34m,\u001b[0m \u001b[0;34m'./Augmenter'\u001b[0m\u001b[0;34m)\u001b[0m\u001b[0;34m\u001b[0m\u001b[0;34m\u001b[0m\u001b[0m\n\u001b[0;32m---> 14\u001b[0;31m \u001b[0;32mfrom\u001b[0m \u001b[0mipynb\u001b[0m\u001b[0;34m.\u001b[0m\u001b[0mfs\u001b[0m\u001b[0;34m.\u001b[0m\u001b[0mfull\u001b[0m\u001b[0;34m.\u001b[0m\u001b[0maugmentation\u001b[0m \u001b[0;32mimport\u001b[0m \u001b[0mAugmenter\u001b[0m\u001b[0;34m\u001b[0m\u001b[0;34m\u001b[0m\u001b[0m\n\u001b[0m",
      "\u001b[0;31mModuleNotFoundError\u001b[0m: No module named 'ipynb.fs.full.augmentation'"
     ]
    }
   ],
   "source": [
    "import librosa as lb\n",
    "import numpy as np\n",
    "import matplotlib.pyplot as plt\n",
    "import os, glob\n",
    "import json\n",
    "import time\n",
    "import pandas as pd\n",
    "\n",
    "from multiprocessing import Pool\n",
    "from joblib import Parallel, delayed\n",
    "\n",
    "import sys\n",
    "sys.path.insert(0, './Augmenter')\n",
    "from ipynb.fs.full.augmentation import Augmenter"
   ]
  },
  {
   "cell_type": "code",
   "execution_count": null,
   "id": "23bd8589",
   "metadata": {},
   "outputs": [],
   "source": [
    "TRAIN_RAVDESS_AUDIO_FILES_PATH = \"../../data/Train/OriginalData/RAVDESS/*.wav\"\n",
    "TEST_RAVDESS_AUDIO_FILES_PATH = \"../../data/Test/OriginalData/RAVDESS/*.wav\"\n",
    "VALIDATE_RAVDESS_AUDIO_FILES_PATH = \"../../data/Validate/OriginalData/RAVDESS/*.wav\"\n",
    "\n",
    "TRAIN_CREMA_D_AUDIO_FILES_PATH = \"../../data/Train/OriginalData/CREMA-D/AudioWAV/*.wav\"\n",
    "TEST_CREMA_D_AUDIO_FILES_PATH = \"../../data/Test/OriginalData/CREMA-D/AudioWAV/*.wav\"\n",
    "VALIDATE_CREMA_D_AUDIO_FILES_PATH = \"../../data/Validate/OriginalData/CREMA-D/AudioWAV/*.wav\"\n",
    "\n",
    "PROCESSED_DATA = {\n",
    "    'features': [],\n",
    "    'emotions': []\n",
    "}\n",
    "\n",
    "focused_emotion_labels = ['neutral', 'happy', 'sad', 'angry', 'fearful', 'disgust']\n",
    "\n",
    "# CREMA-D Female samples\n",
    "CREMA_D_female_samples = [1002,1003,1004,1006,1007,1008,1009,1010,1012,1013,1018,1020,1021,1024,1025,1028,1029,1030,1037,1043,1046,1047,1049,\n",
    "          1052,1053,1054,1055,1056,1058,1060,1061,1063,1072,1073,1074,1075,1076,1078,1079,1082,1084,1089,1091]\n",
    "\n",
    "# CREMA-D\n",
    "CREMA_D_emotion_labels = {\n",
    "  'NEU':'neutral',\n",
    "  'HAP':'happy',\n",
    "  'SAD':'sad',\n",
    "  'ANG':'angry',\n",
    "  'FEA':'fearful',\n",
    "  'DIS':'disgust'\n",
    "}\n",
    "\n",
    "# RAVDESS\n",
    "RAVDESS_emotion_labels = {\n",
    "  '01':'\"neutral\"',\n",
    "  '02':'calm',\n",
    "  '03':'happy',\n",
    "  '04':'sad',\n",
    "  '05':'angry',\n",
    "  '06':'fearful',\n",
    "  '07':'disgust',\n",
    "  '08':'surprised'\n",
    "}"
   ]
  },
  {
   "cell_type": "code",
   "execution_count": null,
   "id": "5cc300a9",
   "metadata": {},
   "outputs": [],
   "source": [
    "def load_data_in_pos_neg(path, dataset_name:str):\n",
    "    data = []\n",
    "    # https://www.paulekman.com/universal-emotions/what-is-surprise/\n",
    "    positive = [\"neutral\", \"happy\", \"calm\", \"suprised\"]\n",
    "    negative = [\"sad\", \"angry\", \"fearful\", \"disgust\", \"suprised\"]\n",
    "    \n",
    "    for i, file in enumerate(glob.glob(path)):\n",
    "        file_path = os.path.basename(file)\n",
    "\n",
    "        emotion = ''\n",
    "        if dataset_name == \"ravdess\":\n",
    "            emotion = RAVDESS_emotion_labels[file_path.split(\"-\")[2]]\n",
    "            #emotion = RAVDESS_emotion_labels[file_path.split(\"-\")[3]] #turn on for trimmed data\n",
    "        else:\n",
    "            emotion = CREMA_D_emotion_labels[file_path.split(\"_\")[2]]\n",
    "            \n",
    "        \n",
    "        if emotion not in focused_emotion_labels:\n",
    "            continue\n",
    "            \n",
    "        if emotion in positve:\n",
    "            label = \"positive\"\n",
    "        else:\n",
    "            label = \"negative\"\n",
    "\n",
    "        data.append([file, label])\n",
    "           \n",
    "    end_time = time.perf_counter()\n",
    "    \n",
    "    return pd.DataFrame(data, columns=[\"file\", \"emotion\"])"
   ]
  },
  {
   "cell_type": "code",
   "execution_count": null,
   "id": "d3a577af",
   "metadata": {},
   "outputs": [],
   "source": [
    "def load_files_in_df(path, dataset_name:str):\n",
    "    data = []\n",
    "    start_time = time.perf_counter()\n",
    "\n",
    "    for i, file in enumerate(glob.glob(path)):\n",
    "        file_path = os.path.basename(file)\n",
    "\n",
    "        emotion = ''\n",
    "        if dataset_name == \"ravdess\":\n",
    "            emotion = RAVDESS_emotion_labels[file_path.split(\"-\")[2]]\n",
    "            #emotion = RAVDESS_emotion_labels[file_path.split(\"-\")[3]] #turn on for trimmed data\n",
    "        else:\n",
    "            emotion = CREMA_D_emotion_labels[file_path.split(\"_\")[2]]\n",
    "            \n",
    "            \n",
    "        if emotion not in focused_emotion_labels:\n",
    "            continue\n",
    "\n",
    "        data.append([file, emotion])\n",
    "           \n",
    "    end_time = time.perf_counter()\n",
    "    \n",
    "    return pd.DataFrame(data, columns=[\"file\", \"emotion\"])"
   ]
  },
  {
   "cell_type": "code",
   "execution_count": null,
   "id": "97ebd274",
   "metadata": {},
   "outputs": [],
   "source": [
    "def load_sex_splitted_files(path:str, dataset_name:str):\n",
    "    \"\"\"\n",
    "        Splits the male and female data into seperate datasets\n",
    "    \"\"\"\n",
    "    female_data = []    \n",
    "    male_data = []\n",
    "\n",
    "    for i, file in enumerate(glob.glob(path)):\n",
    "        file_path = os.path.basename(file)\n",
    "        \n",
    "        if dataset_name == \"ravdess\":\n",
    "            # Splits RAVDESS sex samples\n",
    "            parts = file_path.replace('.','-').split(\"-\")\n",
    "            #emotion = RAVDESS_emotion_labels[parts[2]]\n",
    "            emotion = RAVDESS_emotion_labels[parts[3]] #turn on for trimmed data\n",
    "            \n",
    "            if emotion not in focused_emotion_labels:\n",
    "                continue\n",
    "            \n",
    "            if int(parts[7])%2 == 0: #turn on for trimmed data\n",
    "            #if int(parts[6])%2 == 0:\n",
    "                # Female sample\n",
    "                female_data.append([file, emotion])\n",
    "            else:\n",
    "                # Male sample\n",
    "                male_data.append([file, emotion])\n",
    "        else:\n",
    "            # Splits CREMA-D sex samples\n",
    "            parts = file_path.replace('.','_').split(\"_\")\n",
    "            emotion = CREMA_D_emotion_labels[parts[2]]\n",
    "            \n",
    "            if emotion not in focused_emotion_labels:\n",
    "                continue\n",
    "            \n",
    "            if int(parts[0].split('-')[1]) in CREMA_D_female_samples: # turn on for trimmed data\n",
    "            #if int(parts[0]) in CREMA_D_female_samples:\n",
    "                # Female sample\n",
    "                female_data.append([file, emotion])\n",
    "            else:\n",
    "                # Male sample\n",
    "                male_data.append([file, emotion])\n",
    "            \n",
    "            \n",
    "    female_df = pd.DataFrame(female_data, columns=[\"file\", \"emotion\"])\n",
    "    male_df = pd.DataFrame(male_data, columns=[\"file\", \"emotion\"])\n",
    "        \n",
    "    return female_df, male_df"
   ]
  },
  {
   "cell_type": "code",
   "execution_count": null,
   "id": "30779fe5",
   "metadata": {},
   "outputs": [],
   "source": [
    "def augment_audio(row, is_augmented: bool = False):\n",
    "    audio, sr = lb.load(row[\"file\"], sr=22050)\n",
    "\n",
    "    extracted_features = []\n",
    "    augmented_audios = [audio]\n",
    "    \n",
    "    if is_augmented:\n",
    "        # Change pitch down\n",
    "        augmented_audios.append(Augmenter.change_pitch(audio=audio, sr=sr))\n",
    "\n",
    "        # Change pitch up\n",
    "        augmented_audios.append(Augmenter.change_pitch(audio=audio, sr=sr, pitch_type=\"up\"))\n",
    "\n",
    "        # Change speed slow\n",
    "        augmented_audios.append(Augmenter.change_speed(audio=audio))\n",
    "        \n",
    "        # Change speed fast\n",
    "        augmented_audios.append(Augmenter.change_speed(audio=audio, speed_change=\"high\"))\n",
    "\n",
    "        # Change speed & pitch down\n",
    "        augmented_audios.append(Augmenter.change_speed_and_pitch(audio=audio, sr=sr))  \n",
    "\n",
    "        # Change speed & pitch up\n",
    "        augmented_audios.append(Augmenter.change_speed_and_pitch(audio=audio, sr=sr, pitch_type=\"up\"))  \n",
    "\n",
    "        # Add distribution noise\n",
    "        augmented_audios.append(Augmenter.add_distribution_noise(audio=audio))\n",
    "        \n",
    "\n",
    "    for a in augmented_audios:\n",
    "        extracted_features.append(extract_feature(a, sr, row[\"emotion\"]))\n",
    "        \n",
    "    return extracted_features"
   ]
  },
  {
   "cell_type": "code",
   "execution_count": null,
   "id": "e781e07f",
   "metadata": {},
   "outputs": [],
   "source": [
    "def extract_feature(audio, sr, emotion, mfcc=True, chroma=True, mel=True):\n",
    "    result = np.array([])\n",
    "    \n",
    "    if mfcc:\n",
    "        # Gets the mean of the MFCC\n",
    "        # Change to 21 bins instead of 40\n",
    "        mfccs = np.mean(lb.feature.mfcc(y=audio, sr=sr, n_mfcc=40).T, axis=0)\n",
    "        result = np.hstack((result, mfccs))\n",
    "    if chroma:\n",
    "        # Gets the mean of the chromagram\n",
    "        stft = np.abs(lb.stft(audio))\n",
    "        chroma = np.mean(lb.feature.chroma_stft(S=stft, sr=sr).T, axis=0)\n",
    "        result = np.hstack((result, chroma))\n",
    "    if mel:\n",
    "        # Gets the mean of the Mel-frequency spectrogram\n",
    "        mel = np.mean(lb.feature.melspectrogram(audio, sr=sr).T, axis=0)\n",
    "        result = np.hstack((result, mel))\n",
    "    \n",
    "    return (result.tolist(), emotion)"
   ]
  },
  {
   "cell_type": "code",
   "execution_count": null,
   "id": "787fdb23",
   "metadata": {},
   "outputs": [],
   "source": [
    "def create_json(df, dataset_type:str, dataset_name:str, is_augmented:bool, sex:str = \"\", augmentation_type:str=\"\"):\n",
    "    start_time = time.perf_counter()\n",
    "    n_proc = 35\n",
    "    data = Parallel(n_jobs=n_proc)(delayed(augment_audio)(row, is_augmented) for _, row in df.iterrows())\n",
    "\n",
    "    formatted_data = {\n",
    "        \"features\": [],\n",
    "        \"emotions\": []\n",
    "    }\n",
    "\n",
    "    for d in data:\n",
    "        for audio in d:\n",
    "            formatted_data[\"features\"].append(audio[0])\n",
    "            formatted_data[\"emotions\"].append(audio[1])\n",
    "    \n",
    "    is_sex = \"\" if not sex else f\"{sex}_\"\n",
    "    is_agumented = \"augmented_\" if is_augmented else \"\"\n",
    "\n",
    "    json_path = f'../data/{dataset_type}/{dataset_name}/{dataset_type}_{is_sex}{is_agumented}{augmentation_type}_{dataset_name}_preprocessed_data.json'\n",
    "    print(json_path)\n",
    "    with open(json_path, 'w') as outfile:\n",
    "        json.dump(formatted_data, outfile, indent=4)\n",
    "\n",
    "    end_time = time.perf_counter()\n",
    "    print(f\"{dataset_type} set | DONE PROCESSING DATA!!! | Duration: {end_time - start_time:04f}\")\n",
    "\n",
    "    print(f'Size: {len(formatted_data[\"features\"])}\\n')"
   ]
  },
  {
   "cell_type": "code",
   "execution_count": null,
   "id": "a292c62f",
   "metadata": {},
   "outputs": [],
   "source": [
    "def store_data(datasets, dataset_name:str, is_augmented:bool = False, split_sex:bool = False, augmentation_type:str=\"\", split_pos_neg=False):\n",
    "\n",
    "    for key in datasets:\n",
    "        if split_sex:\n",
    "            print(\"Sex splitted\")\n",
    "            female_df, male_df = load_sex_splitted_files(datasets[key], dataset_name)\n",
    "            \n",
    "            # Create female JSON file\n",
    "            #create_json(df=female_df, dataset_type=key, dataset_name=dataset_name, is_augmented=is_augmented, sex='female',augmentation_type=augmentation_type)\n",
    "            \n",
    "            # Create male JSON file\n",
    "            #create_json(df=male_df, dataset_type=key, dataset_name=dataset_name, is_augmented=is_augmented, sex='male',augmentation_type=augmentation_type)\n",
    "        if split_pos_neg:\n",
    "            print(\"Emotions classified\")\n",
    "            pos_df, neg_df = load_data_in_pos_neg(datasets[key], dataset_name)\n",
    "            # maak pos neg df met load\n",
    "        else:\n",
    "            print(\"Default\")\n",
    "            df = load_files_in_df(datasets[key], dataset_name)\n",
    "            \n",
    "            #create_json(df=df, dataset_type=key, dataset_name=dataset_name,is_augmented=is_augmented, augmentation_type=augmentation_type)"
   ]
  },
  {
   "cell_type": "markdown",
   "id": "b0113d36",
   "metadata": {},
   "source": [
    "## Combined preprocessing"
   ]
  },
  {
   "cell_type": "code",
   "execution_count": null,
   "id": "74bb90e6",
   "metadata": {},
   "outputs": [],
   "source": [
    "def store_data_combined(datasets, is_augmented:bool = False, split_sex:bool = False, augmentation_type:str=\"\"):\n",
    "    datasets = datasets\n",
    "    \n",
    "    dataset_name='ravdess'\n",
    "    df_train_r = load_files_in_df(datasets['train-r'], dataset_name)\n",
    "    df_test_r = load_files_in_df(datasets['test-r'], dataset_name)\n",
    "    df_valid_r = load_files_in_df(datasets['validate-r'], dataset_name)\n",
    "    print(len(df_train_r))\n",
    "    print(len(df_test_r))\n",
    "    print(len(df_valid_r))\n",
    "    print()\n",
    "\n",
    "    dataset_name='crema-d'\n",
    "    df_train_c = load_files_in_df(datasets['train-c'], dataset_name)\n",
    "    df_test_c = load_files_in_df(datasets['test-c'], dataset_name)\n",
    "    df_valid_c = load_files_in_df(datasets['validate-c'], dataset_name)\n",
    "    print(len(df_train_c))\n",
    "    print(len(df_test_c))\n",
    "    print(len(df_valid_c))\n",
    "    print()\n",
    "\n",
    "    df_train = pd.concat([df_train_r,df_train_c])\n",
    "    df_test = pd.concat([df_test_r,df_test_c])\n",
    "    df_valid = pd.concat([df_valid_r,df_valid_c])\n",
    "    print(len(df_train))\n",
    "    print(len(df_test))\n",
    "    print(len(df_valid))\n",
    "    print()\n",
    "\n",
    "    create_json(df_train, 'train','combined', is_augmented,split_sex,augmentation_type)\n",
    "    create_json(df_test, 'test','combined', is_augmented,split_sex,augmentation_type)\n",
    "    create_json(df_test, 'validate','combined', is_augmented,split_sex,augmentation_type)\n",
    "\n",
    "\n"
   ]
  },
  {
   "cell_type": "code",
   "execution_count": null,
   "id": "3e8baa45",
   "metadata": {},
   "outputs": [],
   "source": [
    "datasets = {\n",
    "        'train-r': TRAIN_RAVDESS_AUDIO_FILES_PATH,\n",
    "        'test-r': TEST_RAVDESS_AUDIO_FILES_PATH,\n",
    "        'validate-r': VALIDATE_RAVDESS_AUDIO_FILES_PATH,\n",
    "        'train-c': TRAIN_CREMA_D_AUDIO_FILES_PATH,\n",
    "        'test-c': TEST_CREMA_D_AUDIO_FILES_PATH,\n",
    "        'validate-c': VALIDATE_CREMA_D_AUDIO_FILES_PATH,\n",
    "    }\n",
    "datasets_trimmed = {\n",
    "        'train-r': \"../../data/Train/Trimmed/RAVDESS/*.wav\",\n",
    "        'test-r': \"../../data/Test/Trimmed/RAVDESS/*.wav\",\n",
    "        'validate-r': \"../../data/Validate/Trimmed/RAVDESS/*.wav\",\n",
    "        'train-c': \"../../data/Train/Trimmed/CREMA-D/AudioWAV/*.wav\",\n",
    "        'test-c': \"../../data/Test/Trimmed/CREMA-D/AudioWAV/*.wav\",\n",
    "        'validate-c': \"../../data/Validate/Trimmed/CREMA-D/AudioWAV/*.wav\",\n",
    "    }\n",
    "\n",
    "store_data_combined(datasets=datasets_trimmed,\n",
    "          is_augmented=False,\n",
    "          split_sex=False,\n",
    "          augmentation_type='Trimmed')"
   ]
  },
  {
   "cell_type": "markdown",
   "id": "7f6bafe5",
   "metadata": {},
   "source": [
    "### RAVDESS preprocessing"
   ]
  },
  {
   "cell_type": "markdown",
   "id": "b4833d63",
   "metadata": {},
   "source": [
    "### Original data - Ravdess"
   ]
  },
  {
   "cell_type": "code",
   "execution_count": null,
   "id": "16c2122a",
   "metadata": {},
   "outputs": [],
   "source": [
    "datasets = {\n",
    "    'train': TRAIN_RAVDESS_AUDIO_FILES_PATH,\n",
    "    'test': TEST_RAVDESS_AUDIO_FILES_PATH,\n",
    "    'validate': VALIDATE_RAVDESS_AUDIO_FILES_PATH,\n",
    "}\n",
    "\n",
    "store_data(datasets=datasets,\n",
    "           dataset_name='ravdess',\n",
    "           is_augmented=False,\n",
    "          augmentation_type='Original')"
   ]
  },
  {
   "cell_type": "markdown",
   "id": "0487baa1",
   "metadata": {},
   "source": [
    "### Original data - Crema-d"
   ]
  },
  {
   "cell_type": "code",
   "execution_count": null,
   "id": "8d71210a",
   "metadata": {},
   "outputs": [],
   "source": [
    "datasets = {\n",
    "    'train': TRAIN_CREMA_D_AUDIO_FILES_PATH,\n",
    "    'test': TEST_CREMA_D_AUDIO_FILES_PATH,\n",
    "    'validate': VALIDATE_CREMA_D_AUDIO_FILES_PATH,\n",
    "}\n",
    "\n",
    "store_data(datasets=datasets,\n",
    "           dataset_name='crema-d',\n",
    "           is_augmented=False,\n",
    "          augmentation_type='Original')"
   ]
  },
  {
   "cell_type": "markdown",
   "id": "d868410e",
   "metadata": {},
   "source": [
    "### Trimmed data - Ravdess\n",
    "##### (turn on commented line in load_files_in_df())"
   ]
  },
  {
   "cell_type": "code",
   "execution_count": null,
   "id": "90028096",
   "metadata": {},
   "outputs": [],
   "source": [
    "datasets = {\n",
    "    'train': \"../../data/Train/Trimmed/RAVDESS/*.wav\",\n",
    "    'test': \"../../data/Test/Trimmed/RAVDESS/*.wav\",\n",
    "    'validate': \"../../data/Validate/Trimmed/RAVDESS/*.wav\",\n",
    "}\n",
    "\n",
    "store_data(datasets=datasets,\n",
    "           dataset_name='ravdess',\n",
    "           is_augmented=False,\n",
    "          augmentation_type='Trimmed')"
   ]
  },
  {
   "cell_type": "markdown",
   "id": "91e73f28",
   "metadata": {},
   "source": [
    "### Trimmed data - Crema-d\n",
    "##### (turn on commented line in load_files_in_df())"
   ]
  },
  {
   "cell_type": "code",
   "execution_count": null,
   "id": "1a889684",
   "metadata": {},
   "outputs": [],
   "source": [
    "datasets = {\n",
    "    'train': \"../../data/Train/Trimmed/CREMA-D/AudioWAV/*.wav\",\n",
    "    'test': \"../../data/Test/Trimmed/CREMA-D/AudioWAV/*.wav\",\n",
    "    'validate': \"../../data/Validate/Trimmed/CREMA-D/AudioWAV/*.wav\",\n",
    "}\n",
    "\n",
    "store_data(datasets=datasets,\n",
    "           dataset_name='crema-d',\n",
    "           is_augmented=False,\n",
    "          augmentation_type='Trimmed')"
   ]
  },
  {
   "cell_type": "markdown",
   "id": "1c3bba68",
   "metadata": {},
   "source": [
    "### Augmented - pitch up - RAVDESS"
   ]
  },
  {
   "cell_type": "code",
   "execution_count": null,
   "id": "beeab1e0",
   "metadata": {},
   "outputs": [],
   "source": [
    "datasets = {\n",
    "    'train': TRAIN_RAVDESS_AUDIO_FILES_PATH,\n",
    "    'test': TEST_RAVDESS_AUDIO_FILES_PATH,\n",
    "    'validate': VALIDATE_RAVDESS_AUDIO_FILES_PATH,\n",
    "}\n",
    "\n",
    "store_data(datasets=datasets,\n",
    "           dataset_name='ravdess',\n",
    "           is_augmented=True,\n",
    "          augmentation_type='PitchUp')"
   ]
  },
  {
   "cell_type": "markdown",
   "id": "cbbdd89d",
   "metadata": {},
   "source": [
    "### Augmented - pitch up - CREMA-D"
   ]
  },
  {
   "cell_type": "code",
   "execution_count": null,
   "id": "2d27bbfd",
   "metadata": {},
   "outputs": [],
   "source": [
    "datasets = {\n",
    "    'train': TRAIN_CREMA_D_AUDIO_FILES_PATH,\n",
    "    'test': TEST_CREMA_D_AUDIO_FILES_PATH,\n",
    "    'validate': VALIDATE_CREMA_D_AUDIO_FILES_PATH,\n",
    "}\n",
    "\n",
    "store_data(datasets=datasets,\n",
    "           dataset_name='crema-d',\n",
    "           is_augmented=True,\n",
    "          augmentation_type='PitchUp')"
   ]
  },
  {
   "cell_type": "markdown",
   "id": "4c152159",
   "metadata": {},
   "source": [
    "### Augmented - pitch down - RAVDESS"
   ]
  },
  {
   "cell_type": "code",
   "execution_count": null,
   "id": "e2acab68",
   "metadata": {},
   "outputs": [],
   "source": [
    "datasets = {\n",
    "    'train': TRAIN_RAVDESS_AUDIO_FILES_PATH,\n",
    "    'test': TEST_RAVDESS_AUDIO_FILES_PATH,\n",
    "    'validate': VALIDATE_RAVDESS_AUDIO_FILES_PATH,\n",
    "}\n",
    "\n",
    "store_data(datasets=datasets,\n",
    "           dataset_name='ravdess',\n",
    "           is_augmented=True,\n",
    "          augmentation_type='PitchDown')"
   ]
  },
  {
   "cell_type": "markdown",
   "id": "5ca14b03",
   "metadata": {},
   "source": [
    "### Augmented - pitch down - CREMA-D"
   ]
  },
  {
   "cell_type": "code",
   "execution_count": null,
   "id": "fca31dd5",
   "metadata": {},
   "outputs": [],
   "source": [
    "datasets = {\n",
    "    'train': TRAIN_CREMA_D_AUDIO_FILES_PATH,\n",
    "    'test': TEST_CREMA_D_AUDIO_FILES_PATH,\n",
    "    'validate': VALIDATE_CREMA_D_AUDIO_FILES_PATH,\n",
    "}\n",
    "\n",
    "store_data(datasets=datasets,\n",
    "           dataset_name='crema-d',\n",
    "           is_augmented=True,\n",
    "          augmentation_type='PitchDown')"
   ]
  },
  {
   "cell_type": "markdown",
   "id": "393942b0",
   "metadata": {},
   "source": [
    "### Augmented - lower speed - RAVDESS"
   ]
  },
  {
   "cell_type": "code",
   "execution_count": null,
   "id": "28aecdb1",
   "metadata": {},
   "outputs": [],
   "source": [
    "datasets = {\n",
    "    'train': TRAIN_RAVDESS_AUDIO_FILES_PATH,\n",
    "    'test': TEST_RAVDESS_AUDIO_FILES_PATH,\n",
    "    'validate': VALIDATE_RAVDESS_AUDIO_FILES_PATH,\n",
    "}\n",
    "\n",
    "store_data(datasets=datasets,\n",
    "           dataset_name='ravdess',\n",
    "           is_augmented=True,\n",
    "          augmentation_type='LowerSpeed')"
   ]
  },
  {
   "cell_type": "markdown",
   "id": "dfd562d4",
   "metadata": {},
   "source": [
    "### Augmented - lower speed - CREMA-D"
   ]
  },
  {
   "cell_type": "code",
   "execution_count": null,
   "id": "c24a4fa8",
   "metadata": {},
   "outputs": [],
   "source": [
    "datasets = {\n",
    "    'train': TRAIN_CREMA_D_AUDIO_FILES_PATH,\n",
    "    'test': TEST_CREMA_D_AUDIO_FILES_PATH,\n",
    "    'validate': VALIDATE_CREMA_D_AUDIO_FILES_PATH,\n",
    "}\n",
    "\n",
    "store_data(datasets=datasets,\n",
    "           dataset_name='crema-d',\n",
    "           is_augmented=True,\n",
    "          augmentation_type='LowerSpeed')"
   ]
  },
  {
   "cell_type": "markdown",
   "id": "f91c098f",
   "metadata": {},
   "source": [
    "### Augmented - higher speed - RAVDESS"
   ]
  },
  {
   "cell_type": "code",
   "execution_count": null,
   "id": "69e7116a",
   "metadata": {},
   "outputs": [],
   "source": [
    "datasets = {\n",
    "    'train': TRAIN_RAVDESS_AUDIO_FILES_PATH,\n",
    "    'test': TEST_RAVDESS_AUDIO_FILES_PATH,\n",
    "    'validate': VALIDATE_RAVDESS_AUDIO_FILES_PATH,\n",
    "}\n",
    "\n",
    "store_data(datasets=datasets,\n",
    "           dataset_name='ravdess',\n",
    "           is_augmented=True,\n",
    "          augmentation_type='HigherSpeed')"
   ]
  },
  {
   "cell_type": "markdown",
   "id": "3f50aa54",
   "metadata": {},
   "source": [
    "### Augmented - higher speed - CREMA-D"
   ]
  },
  {
   "cell_type": "code",
   "execution_count": null,
   "id": "78b01a66",
   "metadata": {},
   "outputs": [],
   "source": [
    "datasets = {\n",
    "    'train': TRAIN_CREMA_D_AUDIO_FILES_PATH,\n",
    "    'test': TEST_CREMA_D_AUDIO_FILES_PATH,\n",
    "    'validate': VALIDATE_CREMA_D_AUDIO_FILES_PATH,\n",
    "}\n",
    "\n",
    "store_data(datasets=datasets,\n",
    "           dataset_name='crema-d',\n",
    "           is_augmented=True,\n",
    "          augmentation_type='HigherSpeed')"
   ]
  },
  {
   "cell_type": "markdown",
   "id": "3c0c997c",
   "metadata": {},
   "source": [
    "### Augmented - distribution noise - RAVDESS"
   ]
  },
  {
   "cell_type": "code",
   "execution_count": null,
   "id": "e2351f3d",
   "metadata": {},
   "outputs": [],
   "source": [
    "datasets = {\n",
    "    'train': TRAIN_RAVDESS_AUDIO_FILES_PATH,\n",
    "    'test': TEST_RAVDESS_AUDIO_FILES_PATH,\n",
    "    'validate': VALIDATE_RAVDESS_AUDIO_FILES_PATH,\n",
    "}\n",
    "\n",
    "store_data(datasets=datasets,\n",
    "           dataset_name='ravdess',\n",
    "           is_augmented=True,\n",
    "          augmentation_type='DistributionNoise')"
   ]
  },
  {
   "cell_type": "markdown",
   "id": "35f481d3",
   "metadata": {},
   "source": [
    "### Augmented - distribution noise - CREMA-D"
   ]
  },
  {
   "cell_type": "code",
   "execution_count": null,
   "id": "b1cbc533",
   "metadata": {},
   "outputs": [],
   "source": [
    "datasets = {\n",
    "    'train': TRAIN_CREMA_D_AUDIO_FILES_PATH,\n",
    "    'test': TEST_CREMA_D_AUDIO_FILES_PATH,\n",
    "    'validate': VALIDATE_CREMA_D_AUDIO_FILES_PATH,\n",
    "}\n",
    "\n",
    "store_data(datasets=datasets,\n",
    "           dataset_name='crema-d',\n",
    "           is_augmented=True,\n",
    "          augmentation_type='DistributionNoise')"
   ]
  },
  {
   "cell_type": "markdown",
   "id": "84100874",
   "metadata": {},
   "source": [
    "### Augmented - speed & pitch up - RAVDESS"
   ]
  },
  {
   "cell_type": "code",
   "execution_count": null,
   "id": "f91b8614",
   "metadata": {},
   "outputs": [],
   "source": [
    "datasets = {\n",
    "    'train': TRAIN_RAVDESS_AUDIO_FILES_PATH,\n",
    "    'test': TEST_RAVDESS_AUDIO_FILES_PATH,\n",
    "    'validate': VALIDATE_RAVDESS_AUDIO_FILES_PATH,\n",
    "}\n",
    "\n",
    "store_data(datasets=datasets,\n",
    "           dataset_name='ravdess',\n",
    "           is_augmented=True,\n",
    "          augmentation_type='SpeedAndPitchUp')"
   ]
  },
  {
   "cell_type": "markdown",
   "id": "5b4ad538",
   "metadata": {},
   "source": [
    "### Augmented - speed & pitch up- CREMA-D"
   ]
  },
  {
   "cell_type": "code",
   "execution_count": null,
   "id": "661eeaf6",
   "metadata": {},
   "outputs": [],
   "source": [
    "datasets = {\n",
    "    'train': TRAIN_CREMA_D_AUDIO_FILES_PATH,\n",
    "    'test': TEST_CREMA_D_AUDIO_FILES_PATH,\n",
    "    'validate': VALIDATE_CREMA_D_AUDIO_FILES_PATH,\n",
    "}\n",
    "\n",
    "store_data(datasets=datasets,\n",
    "           dataset_name='crema-d',\n",
    "           is_augmented=True,\n",
    "          augmentation_type='SpeedAndPitchUp')"
   ]
  },
  {
   "cell_type": "markdown",
   "id": "fc7c45f8",
   "metadata": {},
   "source": [
    "### Augmented - speed & pitch down - RAVDESS"
   ]
  },
  {
   "cell_type": "code",
   "execution_count": null,
   "id": "421a263c",
   "metadata": {},
   "outputs": [],
   "source": [
    "datasets = {\n",
    "    'train': TRAIN_RAVDESS_AUDIO_FILES_PATH,\n",
    "    'test': TEST_RAVDESS_AUDIO_FILES_PATH,\n",
    "    'validate': VALIDATE_RAVDESS_AUDIO_FILES_PATH,\n",
    "}\n",
    "\n",
    "store_data(datasets=datasets,\n",
    "           dataset_name='ravdess',\n",
    "           is_augmented=True,\n",
    "          augmentation_type='SpeedAndPitchDown')"
   ]
  },
  {
   "cell_type": "markdown",
   "id": "b60708f7",
   "metadata": {},
   "source": [
    "### Augmented - speed & pitch down- CREMA-D"
   ]
  },
  {
   "cell_type": "code",
   "execution_count": null,
   "id": "0782418b",
   "metadata": {},
   "outputs": [],
   "source": [
    "datasets = {\n",
    "    'train': TRAIN_CREMA_D_AUDIO_FILES_PATH,\n",
    "    'test': TEST_CREMA_D_AUDIO_FILES_PATH,\n",
    "    'validate': VALIDATE_CREMA_D_AUDIO_FILES_PATH,\n",
    "}\n",
    "\n",
    "store_data(datasets=datasets,\n",
    "           dataset_name='crema-d',\n",
    "           is_augmented=True,\n",
    "          augmentation_type='SpeedAndPitchDown')"
   ]
  },
  {
   "cell_type": "markdown",
   "id": "7ee62a98",
   "metadata": {},
   "source": [
    "### Augmented - all - RAVDESS"
   ]
  },
  {
   "cell_type": "code",
   "execution_count": null,
   "id": "c6e58e70",
   "metadata": {},
   "outputs": [],
   "source": [
    "datasets = {\n",
    "    'train': TRAIN_RAVDESS_AUDIO_FILES_PATH,\n",
    "    'test': TEST_RAVDESS_AUDIO_FILES_PATH,\n",
    "    'validate': VALIDATE_RAVDESS_AUDIO_FILES_PATH,\n",
    "}\n",
    "\n",
    "store_data(datasets=datasets,\n",
    "           dataset_name='ravdess',\n",
    "           is_augmented=True,\n",
    "          augmentation_type='AllAugmentations')"
   ]
  },
  {
   "cell_type": "markdown",
   "id": "1f7102c9",
   "metadata": {},
   "source": [
    "### Augmented - all - CREMA-D"
   ]
  },
  {
   "cell_type": "code",
   "execution_count": null,
   "id": "1e5c178b",
   "metadata": {},
   "outputs": [],
   "source": [
    "datasets = {\n",
    "    'train': TRAIN_CREMA_D_AUDIO_FILES_PATH,\n",
    "    'test': TEST_CREMA_D_AUDIO_FILES_PATH,\n",
    "    'validate': VALIDATE_CREMA_D_AUDIO_FILES_PATH,\n",
    "}\n",
    "\n",
    "store_data(datasets=datasets,\n",
    "           dataset_name='crema-d',\n",
    "           is_augmented=True,\n",
    "          augmentation_type='AllAugmentations')"
   ]
  },
  {
   "cell_type": "markdown",
   "id": "56795721",
   "metadata": {},
   "source": [
    "### Augmented - all + trimmed - RAVDESS\n",
    "\n",
    "##### (turn on commented line in load_files_in_df())"
   ]
  },
  {
   "cell_type": "code",
   "execution_count": null,
   "id": "d9c5faa5",
   "metadata": {},
   "outputs": [],
   "source": [
    "datasets = {\n",
    "    'train': \"../../data/Train/Trimmed/RAVDESS/*.wav\",\n",
    "    'test': \"../../data/Test/Trimmed/RAVDESS/*.wav\",\n",
    "    'validate': \"../../data/Validate/Trimmed/RAVDESS/*.wav\",\n",
    "}\n",
    "\n",
    "store_data(datasets=datasets,\n",
    "           dataset_name='ravdess',\n",
    "           is_augmented=True,\n",
    "          augmentation_type='AllAugmentationsTrimmed')"
   ]
  },
  {
   "cell_type": "markdown",
   "id": "aa8ccf0e",
   "metadata": {},
   "source": [
    "### Augmented - all + trimmed - CREMA-D\n",
    "\n",
    "##### (turn on commented line in load_files_in_df())"
   ]
  },
  {
   "cell_type": "code",
   "execution_count": null,
   "id": "7ca7a59d",
   "metadata": {},
   "outputs": [],
   "source": [
    "datasets = {\n",
    "    'train': \"../../data/Train/Trimmed/CREMA-D/AudioWAV/*.wav\",\n",
    "    'test': \"../../data/Test/Trimmed/CREMA-D/AudioWAV/*.wav\",\n",
    "    'validate': \"../../data/Validate/Trimmed/CREMA-D/AudioWAV/*.wav\",\n",
    "}\n",
    "\n",
    "store_data(datasets=datasets,\n",
    "           dataset_name='crema-d',\n",
    "           is_augmented=True,\n",
    "          augmentation_type='AllAugmentationsTrimmed')"
   ]
  },
  {
   "cell_type": "markdown",
   "id": "92dceda9",
   "metadata": {},
   "source": [
    "### Split Gender No Aug Original - RAVDESS"
   ]
  },
  {
   "cell_type": "code",
   "execution_count": null,
   "id": "ae39c885",
   "metadata": {},
   "outputs": [],
   "source": [
    "datasets = {\n",
    "    'train': TRAIN_RAVDESS_AUDIO_FILES_PATH,\n",
    "    'test': TEST_RAVDESS_AUDIO_FILES_PATH,\n",
    "    'validate': VALIDATE_RAVDESS_AUDIO_FILES_PATH,\n",
    "}\n",
    "\n",
    "store_data(datasets=datasets,\n",
    "           dataset_name='ravdess',\n",
    "           is_augmented=False,\n",
    "           split_sex=True,\n",
    "          augmentation_type='SplitGenderNoAugOriginal')"
   ]
  },
  {
   "cell_type": "markdown",
   "id": "6b37a0f8",
   "metadata": {},
   "source": [
    "### Split Gender No Aug Original - CREMA-D"
   ]
  },
  {
   "cell_type": "code",
   "execution_count": null,
   "id": "d5f0971a",
   "metadata": {},
   "outputs": [],
   "source": [
    "datasets = {\n",
    "    'train': TRAIN_CREMA_D_AUDIO_FILES_PATH,\n",
    "    'test': TEST_CREMA_D_AUDIO_FILES_PATH,\n",
    "    'validate': VALIDATE_CREMA_D_AUDIO_FILES_PATH,\n",
    "}\n",
    "\n",
    "store_data(datasets=datasets,\n",
    "           dataset_name='crema-d',\n",
    "           is_augmented=False,\n",
    "           split_sex=True,\n",
    "          augmentation_type='SplitGenderNoAugOriginal')"
   ]
  },
  {
   "cell_type": "markdown",
   "id": "b9c5ec40",
   "metadata": {},
   "source": [
    "### Split Gender No Aug Trimmed - RAVDESS\n",
    "\n",
    "##### (turn on commented line in load_sex_splitted_files())"
   ]
  },
  {
   "cell_type": "code",
   "execution_count": null,
   "id": "77ce89b4",
   "metadata": {},
   "outputs": [],
   "source": [
    "datasets = {\n",
    "    'train': \"../../data/Train/Trimmed/RAVDESS/*.wav\",\n",
    "    'test': \"../../data/Test/Trimmed/RAVDESS/*.wav\",\n",
    "    'validate': \"../../data/Validate/Trimmed/RAVDESS/*.wav\",\n",
    "}\n",
    "store_data(datasets=datasets,\n",
    "           dataset_name='ravdess',\n",
    "           is_augmented=False,\n",
    "           split_sex=True,\n",
    "          augmentation_type='SplitGenderNoAugTrimmed')"
   ]
  },
  {
   "cell_type": "markdown",
   "id": "35e58eb3",
   "metadata": {},
   "source": [
    "### Split Gender No Aug Trimmed - CREMA-D\n",
    "##### (turn on commented line in load_sex_splitted_files())"
   ]
  },
  {
   "cell_type": "code",
   "execution_count": null,
   "id": "5b3a60ed",
   "metadata": {},
   "outputs": [],
   "source": [
    "datasets = {\n",
    "    'train': \"../../data/Train/Trimmed/CREMA-D/AudioWAV/*.wav\",\n",
    "    'test': \"../../data/Test/Trimmed/CREMA-D/AudioWAV/*.wav\",\n",
    "    'validate': \"../../data/Validate/Trimmed/CREMA-D/AudioWAV/*.wav\",\n",
    "}\n",
    "\n",
    "store_data(datasets=datasets,\n",
    "           dataset_name='crema-d',\n",
    "           is_augmented=False,\n",
    "           split_sex=True,\n",
    "          augmentation_type='SplitGenderNoAugTrimmed')"
   ]
  },
  {
   "cell_type": "code",
   "execution_count": null,
   "id": "bf754b2f",
   "metadata": {},
   "outputs": [],
   "source": []
  }
 ],
 "metadata": {
  "kernelspec": {
   "display_name": "Python 3 (ipykernel)",
   "language": "python",
   "name": "python3"
  },
  "language_info": {
   "codemirror_mode": {
    "name": "ipython",
    "version": 3
   },
   "file_extension": ".py",
   "mimetype": "text/x-python",
   "name": "python",
   "nbconvert_exporter": "python",
   "pygments_lexer": "ipython3",
   "version": "3.9.7"
  }
 },
 "nbformat": 4,
 "nbformat_minor": 5
}
