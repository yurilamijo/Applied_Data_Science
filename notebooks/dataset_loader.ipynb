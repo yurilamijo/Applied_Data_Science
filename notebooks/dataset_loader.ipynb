{
 "cells": [
  {
   "cell_type": "markdown",
   "id": "7ae05234",
   "metadata": {},
   "source": [
    "available_columns = 'emotion', 'gender', 'subset', 'file_path'"
   ]
  },
  {
   "cell_type": "code",
   "execution_count": 1,
   "id": "861328a0",
   "metadata": {},
   "outputs": [],
   "source": [
    "import os\n",
    "import numpy as np\n",
    "import pandas as pd\n",
    "\n",
    "class Loader:\n",
    "    identifier = None\n",
    "    \n",
    "    @classmethod # returns dataframe with dataset info\n",
    "    def load_dataset(cls): return None"
   ]
  },
  {
   "cell_type": "markdown",
   "id": "7ada1402",
   "metadata": {},
   "source": [
    "# Load CREMA-D Normal"
   ]
  },
  {
   "cell_type": "code",
   "execution_count": 2,
   "id": "3bb0a121",
   "metadata": {},
   "outputs": [],
   "source": [
    "class NormalCrema(Loader):\n",
    "    identifier = 'crema_normal'\n",
    "    \n",
    "    @classmethod\n",
    "    def load_dataset(cls):\n",
    "        components=[]\n",
    "        path = '/data/emo/notebooks/source/datasets/crema'\n",
    "        for file in os.listdir(path):\n",
    "            component = np.array(file.replace('.', '_').split('_'))\n",
    "            component = np.array([component[2], None, None, os.path.join(path, file)])\n",
    "            components.append(component)\n",
    "        return pd.DataFrame(data=components, columns=['emotion','gender','subset','file_path'])"
   ]
  },
  {
   "cell_type": "markdown",
   "id": "a09b3d22",
   "metadata": {},
   "source": [
    "# Load CREMA-D Splitted"
   ]
  },
  {
   "cell_type": "code",
   "execution_count": 3,
   "id": "77f9156a",
   "metadata": {},
   "outputs": [],
   "source": [
    "class SplittedCrema(Loader):\n",
    "    identifier = 'crema_splitted'\n",
    "    \n",
    "    @classmethod\n",
    "    def load_dataset(cls):\n",
    "        components=[]\n",
    "        path = '/data/emo/notebooks/source/datasets/crema_splitted'\n",
    "        subsets = ['Test', 'Train', 'Validate']\n",
    "        for subset in subsets:\n",
    "            subset_path = f'{path}/{subset}'\n",
    "            for file in os.listdir(subset_path):\n",
    "                component = np.array(file.replace('.', '_').split('_'))\n",
    "                component = np.array([component[2], None, subset, os.path.join(subset_path, file)])\n",
    "                components.append(component)\n",
    "        return pd.DataFrame(data=components, columns=['emotion','gender','subset','file_path'])"
   ]
  },
  {
   "cell_type": "markdown",
   "id": "746008b8",
   "metadata": {},
   "source": [
    "# Load RAVDESS Normal"
   ]
  },
  {
   "cell_type": "code",
   "execution_count": 4,
   "id": "8d47f8ff",
   "metadata": {},
   "outputs": [],
   "source": [
    "class NormalRavdess(Loader):\n",
    "    identifier = 'ravdess_normal'\n",
    "    _emotion_labels = {\n",
    "      '01':'neutral',\n",
    "      '02':'calm',\n",
    "      '03':'happy',\n",
    "      '04':'sad',\n",
    "      '05':'angry',\n",
    "      '06':'fearful',\n",
    "      '07':'disgust',\n",
    "      '08':'surprised'\n",
    "    }\n",
    "    \n",
    "    @classmethod\n",
    "    def load_dataset(cls):\n",
    "        components=[]\n",
    "        path = '/data/emo/notebooks/source/datasets/ravdess'\n",
    "        for file in os.listdir(path):\n",
    "            component = np.array(file.replace('.', '-').split('-'))\n",
    "            component = np.array([cls._emotion_labels[component[2]], None, None, os.path.join(path, file)])\n",
    "            components.append(component)\n",
    "        return pd.DataFrame(data=components, columns=['emotion','gender','subset','file_path'])"
   ]
  },
  {
   "cell_type": "markdown",
   "id": "d0b784e3",
   "metadata": {},
   "source": [
    "# Load RAVDESS Splitted"
   ]
  },
  {
   "cell_type": "code",
   "execution_count": 5,
   "id": "f0ad73f2",
   "metadata": {},
   "outputs": [],
   "source": [
    "class SplittedRavdess(Loader):\n",
    "    identifier = 'ravdess_splitted'\n",
    "    _emotion_labels = {\n",
    "      '01':'neutral',\n",
    "      '02':'calm',\n",
    "      '03':'happy',\n",
    "      '04':'sad',\n",
    "      '05':'angry',\n",
    "      '06':'fearful',\n",
    "      '07':'disgust',\n",
    "      '08':'surprised'\n",
    "    }\n",
    "    \n",
    "    @classmethod\n",
    "    def load_dataset(cls):\n",
    "        components=[]\n",
    "        path = '/data/emo/notebooks/source/datasets/ravdess_splitted'\n",
    "        subsets = ['Test', 'Train', 'Validate']\n",
    "        for subset in subsets:\n",
    "            subset_path = f'{path}/{subset}'\n",
    "            for file in os.listdir(subset_path):\n",
    "                component = np.array(file.replace('.', '-').split('-'))\n",
    "                component = np.array([cls._emotion_labels[component[2]], None, subset, os.path.join(subset_path, file)])\n",
    "                components.append(component)\n",
    "        return pd.DataFrame(data=components, columns=['emotion','gender','subset','file_path'])"
   ]
  },
  {
   "cell_type": "markdown",
   "id": "9c490b97",
   "metadata": {},
   "source": [
    "# Load CREMA-D Binair"
   ]
  },
  {
   "cell_type": "code",
   "execution_count": 6,
   "id": "5affdd66",
   "metadata": {},
   "outputs": [],
   "source": [
    "class BinairCrema(Loader):\n",
    "    identifier = 'crema_binair'\n",
    "    \n",
    "    @classmethod\n",
    "    def load_dataset(cls):\n",
    "        components=[]\n",
    "        path = '/data/emo/notebooks/source/datasets/crema'\n",
    "        for file in os.listdir(path):\n",
    "            component = np.array(file.replace('.', '_').split('_'))\n",
    "            polarity = 'negative' if component[2] in ['ANG', 'SAD', 'FEA', 'DIS'] else 'positive'\n",
    "            component = np.array([polarity, None, None, os.path.join(path, file)])\n",
    "            components.append(component)\n",
    "        return pd.DataFrame(data=components, columns=['emotion','gender','subset','file_path'])"
   ]
  },
  {
   "cell_type": "markdown",
   "id": "d87cba46",
   "metadata": {},
   "source": [
    "# Load Male CREMA-D Binair "
   ]
  },
  {
   "cell_type": "code",
   "execution_count": 7,
   "id": "0134522a",
   "metadata": {},
   "outputs": [],
   "source": [
    "class MaleSplitCremaBinair(Loader):\n",
    "    identifier = 'crema_male'\n",
    "    _crema_d_female_samples = [1002,1003,1004,1006,1007,1008,1009,1010,1012,1013,1018,1020,1021,1024,1025,1028,1029,1030,1037,1043,1046,1047,1049,\n",
    "          1052,1053,1054,1055,1056,1058,1060,1061,1063,1072,1073,1074,1075,1076,1078,1079,1082,1084,1089,1091]\n",
    "    \n",
    "    @classmethod\n",
    "    def load_dataset(cls):\n",
    "        components=[]\n",
    "        path = '/data/emo/notebooks/source/datasets/crema'\n",
    "        for file in os.listdir(path):\n",
    "            component = np.array(file.replace('.', '_').split('_'))\n",
    "            \n",
    "            if int(component[0]) in cls._crema_d_female_samples:\n",
    "                continue\n",
    "           \n",
    "            if component[2] not in ['ANG', 'SAD', 'HAP', 'NEU']:\n",
    "                continue\n",
    "                   \n",
    "            polarity = \"\"\n",
    "            if component[2] in ['ANG', 'SAD']:\n",
    "                polarity = 'negative'\n",
    "            elif component[2] in ['HAP']:\n",
    "                polarity = 'positive'\n",
    "            elif component[2] in ['NEU']:\n",
    "                polarity = 'neutral' \n",
    "            \n",
    "            component = np.array([polarity, \"Male\", None, os.path.join(path, file)])\n",
    "            components.append(component)\n",
    "        \n",
    "        return pd.DataFrame(data=components, columns=['emotion','gender','subset','file_path'])"
   ]
  },
  {
   "cell_type": "markdown",
   "id": "aae3cf43",
   "metadata": {},
   "source": [
    "# Load Female CREMA-D Binair "
   ]
  },
  {
   "cell_type": "code",
   "execution_count": 8,
   "id": "2da9a7a7",
   "metadata": {},
   "outputs": [],
   "source": [
    "class FemaleSplitCremaBinair(Loader):\n",
    "    identifier = 'crema_male'\n",
    "    _crema_d_female_samples = [1002,1003,1004,1006,1007,1008,1009,1010,1012,1013,1018,1020,1021,1024,1025,1028,1029,1030,1037,1043,1046,1047,1049,\n",
    "          1052,1053,1054,1055,1056,1058,1060,1061,1063,1072,1073,1074,1075,1076,1078,1079,1082,1084,1089,1091]\n",
    "    \n",
    "    @classmethod\n",
    "    def load_dataset(cls):\n",
    "        components=[]\n",
    "        path = '/data/emo/notebooks/source/datasets/crema'\n",
    "        for file in os.listdir(path):\n",
    "            component = np.array(file.replace('.', '_').split('_'))\n",
    "            \n",
    "            if int(component[0]) not in cls._crema_d_female_samples:\n",
    "                continue\n",
    "            \n",
    "            if component[2] not in ['ANG', 'SAD', 'HAP', 'NEU']:\n",
    "                continue\n",
    "            \n",
    "            polarity = \"\"\n",
    "            if component[2] in ['ANG', 'SAD']:\n",
    "                polarity = 'negative'\n",
    "            elif component[2] in ['HAP']:\n",
    "                polarity = 'positive'\n",
    "            elif component[2] in ['NEU']:\n",
    "                polarity = 'neutral'\n",
    "                \n",
    "            component = np.array([polarity, \"Female\", None, os.path.join(path, file)])\n",
    "            components.append(component)\n",
    "        \n",
    "        return pd.DataFrame(data=components, columns=['emotion','gender','subset','file_path'])"
   ]
  },
  {
   "cell_type": "markdown",
   "id": "cf54ac0d",
   "metadata": {},
   "source": [
    "# Load RAVDESS Binair\n",
    "TODO: Split Male and Female"
   ]
  },
  {
   "cell_type": "code",
   "execution_count": 9,
   "id": "022042ca",
   "metadata": {},
   "outputs": [],
   "source": [
    "class BinairRavdess(Loader):\n",
    "    identifier = 'ravdess_binair'\n",
    "    \n",
    "    @classmethod\n",
    "    def load_dataset(cls):\n",
    "        components=[]\n",
    "        path = '/data/emo/notebooks/source/datasets/ravdess'\n",
    "        for file in os.listdir(path):\n",
    "            component = np.array(file.replace('.', '_').split('_'))\n",
    "            polarity = 'negative' if component[2] in ['ANG', 'SAD', 'FEA', 'DIS'] else 'positive'\n",
    "            component = np.array([polarity, None, None, os.path.join(path, file)])\n",
    "            components.append(component)\n",
    "        return pd.DataFrame(data=components, columns=['emotion','gender','subset','file_path'])"
   ]
  },
  {
   "cell_type": "markdown",
   "id": "0d56a3a1",
   "metadata": {},
   "source": [
    "# Load Male RAVDESS Binair "
   ]
  },
  {
   "cell_type": "code",
   "execution_count": 10,
   "id": "7ecb8ad7",
   "metadata": {},
   "outputs": [],
   "source": [
    "class MaleBinairRavdess(Loader):\n",
    "    identifier = 'ravdess_postive_negative_male'\n",
    "    _emotion_labels = {\n",
    "      '01':'\"neutral\"',\n",
    "      '02':'calm',\n",
    "      '03':'happy',\n",
    "      '04':'sad',\n",
    "      '05':'angry',\n",
    "      '06':'fearful',\n",
    "      '07':'disgust',\n",
    "      '08':'surprised'\n",
    "    }\n",
    "    \n",
    "    @classmethod\n",
    "    def load_dataset(cls):\n",
    "        components=[]\n",
    "        path = '/data/emo/notebooks/source/datasets/ravdess'\n",
    "        \n",
    "        for file in os.listdir(path):\n",
    "            component = np.array(file.replace('.', '-').split('-'))\n",
    "            \n",
    "            if int(component[6]) % 2 == 0:\n",
    "                continue\n",
    "            \n",
    "            if component[2] not in ['01', '02', '03', '04', '05']:\n",
    "                continue\n",
    "            \n",
    "            polarity = \"\"\n",
    "            if component[2] in ['05', '04']:\n",
    "                polarity = 'negative'\n",
    "            elif component[2] in ['03', '02']:\n",
    "                polarity = 'positive'\n",
    "            elif component[2] in ['01']:\n",
    "                polarity = 'neutral'\n",
    "            \n",
    "            component = np.array([polarity, \"Male\", None, os.path.join(path, file)])\n",
    "            components.append(component)\n",
    "            \n",
    "        return pd.DataFrame(data=components, columns=['emotion','gender','subset','file_path'])"
   ]
  },
  {
   "cell_type": "markdown",
   "id": "e59f7a7b",
   "metadata": {},
   "source": [
    "# Load Female RAVDESS Binair "
   ]
  },
  {
   "cell_type": "code",
   "execution_count": 11,
   "id": "0650ff8c",
   "metadata": {},
   "outputs": [],
   "source": [
    "class FemaleBinairRavdess(Loader):\n",
    "    identifier = 'ravdess_postive_negative_female'\n",
    "    _emotion_labels = {\n",
    "      '01':'\"neutral\"',\n",
    "      '02':'calm',\n",
    "      '03':'happy',\n",
    "      '04':'sad',\n",
    "      '05':'angry',\n",
    "      '06':'fearful',\n",
    "      '07':'disgust',\n",
    "      '08':'surprised'\n",
    "    }\n",
    "    \n",
    "    @classmethod\n",
    "    def load_dataset(cls):\n",
    "        components=[]\n",
    "        path = '/data/emo/notebooks/source/datasets/ravdess'\n",
    "        \n",
    "        for file in os.listdir(path):\n",
    "            component = np.array(file.replace('.', '-').split('-'))\n",
    "            \n",
    "            if int(component[6]) % 2 == 0:\n",
    "                continue\n",
    "            \n",
    "            if component[2] not in ['01', '02', '03', '04', '05']:\n",
    "                continue\n",
    "            \n",
    "            polarity = \"\"\n",
    "            if component[2] in ['05', '04']:\n",
    "                polarity = 'negative'\n",
    "            elif component[2] in ['03', '02']:\n",
    "                polarity = 'positive'\n",
    "            elif component[2] in ['01']:\n",
    "                polarity = 'neutral'\n",
    "            \n",
    "            component = np.array([polarity, \"Female\", None, os.path.join(path, file)])\n",
    "            components.append(component)\n",
    "            \n",
    "        return pd.DataFrame(data=components, columns=['emotion','gender','subset','file_path'])"
   ]
  },
  {
   "cell_type": "markdown",
   "id": "8d3973b9",
   "metadata": {},
   "source": [
    "# Load SAVEE Normal"
   ]
  },
  {
   "cell_type": "code",
   "execution_count": 12,
   "id": "3fd8b8c7",
   "metadata": {},
   "outputs": [],
   "source": [
    "class NormalSavee(Loader):\n",
    "    identifier = 'savee_normal'\n",
    "    \n",
    "    @classmethod\n",
    "    def load_dataset(cls):\n",
    "        emotion = []\n",
    "        gender = []\n",
    "        paths = []\n",
    "        subset = []\n",
    "        path = '/data/emo/notebooks/source/datasets/savee/'\n",
    "        for i in os.listdir(path):\n",
    "            if i[-8:-6] == '_a': emotion.append('angry')\n",
    "            elif i[-8:-6] == '_d': emotion.append('disgust')\n",
    "            elif i[-8:-6] == '_f': emotion.append('fear')\n",
    "            elif i[-8:-6] == '_h': emotion.append('happy')\n",
    "            elif i[-8:-6] == '_n': emotion.append('neutral')\n",
    "            elif i[-8:-6] == 'sa': emotion.append('sad')\n",
    "            elif i[-8:-6] == 'su': emotion.append('surprise')\n",
    "            paths.append(path + i)\n",
    "            gender.append('male')\n",
    "            subset.append(None)\n",
    "        SAVEE_df = pd.DataFrame(emotion, columns=['emotion'])\n",
    "        SAVEE_df = pd.concat([SAVEE_df, pd.DataFrame(gender, columns=['gender'])], axis=1)\n",
    "        SAVEE_df = pd.concat([SAVEE_df, pd.DataFrame(subset, columns=['subset'])], axis=1)\n",
    "        SAVEE_df = pd.concat([SAVEE_df, pd.DataFrame(paths, columns=['file_path'])], axis=1)\n",
    "        \n",
    "        return pd.DataFrame(data=SAVEE_df, columns=['emotion','gender','subset','file_path'])"
   ]
  },
  {
   "cell_type": "markdown",
   "id": "6d34babb",
   "metadata": {},
   "source": [
    "# Load SAVEE Splitted"
   ]
  },
  {
   "cell_type": "code",
   "execution_count": 13,
   "id": "6d30e37b",
   "metadata": {},
   "outputs": [],
   "source": [
    "class SplittedSavee(Loader):\n",
    "    identifier = 'savee_splitted'\n",
    "    \n",
    "    @classmethod\n",
    "    def load_dataset(cls):\n",
    "        emotion = []\n",
    "        gender = []\n",
    "        paths = []\n",
    "        subsetx = []\n",
    "        path = '/data/emo/notebooks/source/datasets/savee_splitted'\n",
    "        subsets = ['Test', 'Train', 'Validate']\n",
    "        for subset in subsets:\n",
    "            subset_path = f'{path}/{subset}'\n",
    "            for i in os.listdir(subset_path):\n",
    "                if i[-8:-6] == '_a':\n",
    "                    emotion.append('angry')\n",
    "                elif i[-8:-6] == '_d':\n",
    "                    emotion.append('disgust')\n",
    "                elif i[-8:-6] == '_f':\n",
    "                    emotion.append('fear')\n",
    "                elif i[-8:-6] == '_h':\n",
    "                    emotion.append('happy')\n",
    "                elif i[-8:-6] == '_n':\n",
    "                    emotion.append('neutral')\n",
    "                elif i[-8:-6] == 'sa':\n",
    "                    emotion.append('sad')\n",
    "                elif i[-8:-6] == 'su':\n",
    "                    emotion.append('surprise')\n",
    "                else:\n",
    "                    emotion.append('error')\n",
    "                paths.append(f'{subset_path}/{i}')\n",
    "                gender.append('male')\n",
    "                subsetx.append(subset)\n",
    "        SAVEE_df = pd.DataFrame(emotion, columns=['emotion'])\n",
    "        SAVEE_df = pd.concat([SAVEE_df, pd.DataFrame(gender, columns=['gender'])], axis=1)\n",
    "        SAVEE_df = pd.concat([SAVEE_df, pd.DataFrame(subsetx, columns=['subset'])], axis=1)\n",
    "        SAVEE_df = pd.concat([SAVEE_df, pd.DataFrame(paths, columns=['file_path'])], axis=1)\n",
    "        return pd.DataFrame(data=SAVEE_df, columns=['emotion','gender','subset','file_path'])"
   ]
  },
  {
   "cell_type": "markdown",
   "id": "71bb6366",
   "metadata": {},
   "source": [
    "# Load TESS Normal"
   ]
  },
  {
   "cell_type": "code",
   "execution_count": 14,
   "id": "928ddbee",
   "metadata": {},
   "outputs": [],
   "source": [
    "class NormalTess(Loader):\n",
    "    identifier = 'tess_normal'\n",
    "    \n",
    "    @classmethod\n",
    "    def load_dataset(cls):\n",
    "        emotion = []\n",
    "        gender = []\n",
    "        paths = []\n",
    "        subset = []\n",
    "        path = '/data/emo/notebooks/source/datasets/tess/'\n",
    "        for i in os.listdir(path):\n",
    "            fname = os.listdir(path + i)\n",
    "            for f in fname:\n",
    "                if i == 'OAF_angry' or i == 'YAF_angry':\n",
    "                    emotion.append('angry')\n",
    "                elif i == 'OAF_disgust' or i == 'YAF_disgust':\n",
    "                    emotion.append('disgust')\n",
    "                elif i == 'OAF_Fear' or i == 'YAF_fear':\n",
    "                    emotion.append('fear')\n",
    "                elif i == 'OAF_happy' or i == 'YAF_happy':\n",
    "                    emotion.append('happy')\n",
    "                elif i == 'OAF_neutral' or i == 'YAF_neutral':\n",
    "                    emotion.append('neutral')\n",
    "                elif i == 'OAF_Pleasant_surprise' or i == 'YAF_pleasant_surprised':\n",
    "                    emotion.append('surprise')\n",
    "                elif i == 'OAF_Sad' or i == 'YAF_sad':\n",
    "                    emotion.append('sad')\n",
    "                else:\n",
    "                    emotion.append('Unknown')\n",
    "                paths.append(path + i + \"/\" + f)\n",
    "                gender.append('female')\n",
    "                subset.append(None)\n",
    "        TESS_df = pd.DataFrame(emotion, columns=['emotion'])\n",
    "        TESS_df = pd.concat([TESS_df, pd.DataFrame(gender, columns=['gender'])], axis=1)\n",
    "        TESS_df = pd.concat([TESS_df, pd.DataFrame(subset, columns=['subset'])], axis=1)\n",
    "        TESS_df = pd.concat([TESS_df, pd.DataFrame(paths, columns=['file_path'])], axis=1)\n",
    "        \n",
    "        return pd.DataFrame(data=TESS_df, columns=['emotion','gender','subset','file_path'])"
   ]
  },
  {
   "cell_type": "markdown",
   "id": "03a628d7",
   "metadata": {},
   "source": [
    "# Load TESS Splitted"
   ]
  },
  {
   "cell_type": "code",
   "execution_count": 15,
   "id": "f2398f4d",
   "metadata": {},
   "outputs": [],
   "source": [
    "class SplittedTess(Loader):\n",
    "    identifier = 'savee_splitted'\n",
    "    \n",
    "    @classmethod\n",
    "    def load_dataset(cls):\n",
    "        emotion = []\n",
    "        gender = []\n",
    "        paths = []\n",
    "        subsetx = []\n",
    "        path = '/data/emo/notebooks/source/datasets/tess_splitted'\n",
    "        subsets = ['Test', 'Train', 'Validate']\n",
    "        for subset in subsets:\n",
    "            subset_path = f'{path}/{subset}'\n",
    "            for i in os.listdir(subset_path):\n",
    "                if 'angry' in i:\n",
    "                    emotion.append('angry')\n",
    "                elif 'disgust' in i:\n",
    "                    emotion.append('disgust')\n",
    "                elif 'fear' in i:\n",
    "                    emotion.append('fear')\n",
    "                elif 'happy' in i:\n",
    "                    emotion.append('happy')\n",
    "                elif 'neutral' in i:\n",
    "                    emotion.append('neutral')\n",
    "                elif 'suprised' in i:\n",
    "                    emotion.append('surprise')\n",
    "                elif 'sad' in i:\n",
    "                    emotion.append('sad')\n",
    "                else:\n",
    "                    emotion.append('Unknown')\n",
    "                paths.append(f'{subset_path}/{i}')\n",
    "                gender.append('female')\n",
    "                subsetx.append(subset)\n",
    "        TESS_df = pd.DataFrame(emotion, columns=['emotion'])\n",
    "        TESS_df = pd.concat([TESS_df, pd.DataFrame(gender, columns=['gender'])], axis=1)\n",
    "        TESS_df = pd.concat([TESS_df, pd.DataFrame(subsetx, columns=['subset'])], axis=1)\n",
    "        TESS_df = pd.concat([TESS_df, pd.DataFrame(paths, columns=['file_path'])], axis=1)\n",
    "        return pd.DataFrame(data=TESS_df, columns=['emotion','gender','subset','file_path'])"
   ]
  },
  {
   "cell_type": "markdown",
   "id": "93b29057",
   "metadata": {},
   "source": [
    "# Load Quaternair Combined"
   ]
  },
  {
   "cell_type": "code",
   "execution_count": 16,
   "id": "a46dac81",
   "metadata": {},
   "outputs": [],
   "source": [
    "class QuaternairCombined(Loader):\n",
    "    identifier = 'combined_quaternair'\n",
    "    \n",
    "    @classmethod\n",
    "    def load_dataset(cls):\n",
    "        loaded_dataset_1 = NormalCrema.load_dataset()\n",
    "        loaded_dataset_2 = NormalRavdess.load_dataset()\n",
    "        loaded_dataset_3 = NormalSavee.load_dataset()\n",
    "        loaded_dataset_4 = NormalTess.load_dataset()\n",
    "        dataset = pd.concat([loaded_dataset_1, loaded_dataset_2, \n",
    "                             loaded_dataset_3, loaded_dataset_4], ignore_index=True, sort=False)\n",
    "        for index, value in dataset.iterrows():\n",
    "            if value['emotion'] in ['SAD', 'sad']: value['emotion'] = 'sad'\n",
    "            if value['emotion'] in ['ANG', 'angry']: value['emotion'] = 'angry'\n",
    "            if value['emotion'] in ['NEU', 'neutral']: value['emotion'] = 'neutral'\n",
    "            if value['emotion'] in ['HAP', 'happy']: value['emotion'] = 'happy'\n",
    "        return dataset.loc[dataset['emotion'].isin(['angry', 'neutral', 'happy', 'sad'])]"
   ]
  },
  {
   "cell_type": "markdown",
   "id": "db6237c0",
   "metadata": {},
   "source": [
    "# Load Trinair Combined"
   ]
  },
  {
   "cell_type": "code",
   "execution_count": 17,
   "id": "551ba89c",
   "metadata": {},
   "outputs": [],
   "source": [
    "class TrinairCombinedPN(Loader):\n",
    "    identifier = 'combined_trinair'\n",
    "    \n",
    "    @classmethod\n",
    "    def load_dataset(cls):\n",
    "        loaded_dataset_1 = NormalCrema.load_dataset()\n",
    "        loaded_dataset_2 = NormalRavdess.load_dataset()\n",
    "        loaded_dataset_3 = NormalSavee.load_dataset()\n",
    "        loaded_dataset_4 = NormalTess.load_dataset()\n",
    "        dataset = pd.concat([loaded_dataset_1, loaded_dataset_2, \n",
    "                             loaded_dataset_3, loaded_dataset_4], ignore_index=True, sort=False)\n",
    "        for index, value in dataset.iterrows():\n",
    "            if value['emotion'] in ['ANG', 'angry', 'SAD', 'sad']:\n",
    "                value['emotion'] = 'negative'\n",
    "            elif value['emotion'] in ['HAP', 'happy', 'CAL', 'calm']:\n",
    "                value['emotion'] = 'positive'\n",
    "            elif value['emotion'] in ['NEU', 'neutral']:\n",
    "                value['emotion'] = 'neutral'\n",
    "            \n",
    "        return dataset.loc[dataset['emotion'].isin(['negative', 'positive', 'neutral'])]"
   ]
  },
  {
   "cell_type": "markdown",
   "id": "359a0bdb",
   "metadata": {},
   "source": [
    "# Load Quaternair Combined Splitted"
   ]
  },
  {
   "cell_type": "code",
   "execution_count": 18,
   "id": "dcd65eae",
   "metadata": {},
   "outputs": [],
   "source": [
    "class QuaternairCombinedSplitted(Loader):\n",
    "    identifier = 'combined_quaternair_splitted'\n",
    "    \n",
    "    @classmethod\n",
    "    def load_dataset(cls):\n",
    "        loaded_dataset_1 = SplittedCrema.load_dataset()\n",
    "        loaded_dataset_2 = SplittedRavdess.load_dataset()\n",
    "        loaded_dataset_3 = SplittedSavee.load_dataset()\n",
    "        loaded_dataset_4 = SplittedTess.load_dataset()\n",
    "        dataset = pd.concat([loaded_dataset_1, loaded_dataset_2, \n",
    "                             loaded_dataset_3, loaded_dataset_4], ignore_index=True, sort=False)\n",
    "        for index, value in dataset.iterrows():\n",
    "            if value['emotion'] in ['SAD', 'sad']: value['emotion'] = 'sad'\n",
    "            if value['emotion'] in ['ANG', 'angry']: value['emotion'] = 'angry'\n",
    "            if value['emotion'] in ['NEU', 'neutral']: value['emotion'] = 'neutral'\n",
    "            if value['emotion'] in ['HAP', 'happy']: value['emotion'] = 'happy'\n",
    "        return dataset.loc[dataset['emotion'].isin(['angry', 'neutral', 'happy', 'sad'])]"
   ]
  },
  {
   "cell_type": "markdown",
   "id": "0028c3aa",
   "metadata": {},
   "source": [
    "# Load Male Quaternair Combined"
   ]
  },
  {
   "cell_type": "code",
   "execution_count": 19,
   "id": "362380a5",
   "metadata": {},
   "outputs": [],
   "source": [
    "class QuaternairMaleCombinedPN(Loader):\n",
    "    identifier = 'combined_quaternair_Male_Positive_Negative'\n",
    "    \n",
    "    @classmethod\n",
    "    def load_dataset(cls):\n",
    "        components = []\n",
    "        loaded_dataset_1 = NormalCrema.load_dataset()\n",
    "        loaded_dataset_2 = NormalRavdess.load_dataset()\n",
    "        loaded_dataset_3 = NormalSavee.load_dataset()\n",
    "        loaded_dataset_4 = NormalTess.load_dataset()\n",
    "        dataset = pd.concat([loaded_dataset_1, loaded_dataset_2, \n",
    "                             loaded_dataset_3, loaded_dataset_4], ignore_index=True, sort=False)\n",
    "        \n",
    "        \n",
    "        for index, value in dataset.iterrows():\n",
    "            if value['emotion'] in ['ANG', 'angry', 'SAD', 'sad']:\n",
    "                value['emotion'] = 'negative'\n",
    "            elif value['emotion'] in ['HAP', 'happy', 'CAL', 'calm']:\n",
    "                value['emotion'] = 'positive'\n",
    "            elif value['emotion'] in ['NEU', 'neutral']:\n",
    "                value['emotion'] = 'neutral'\n",
    "        \n",
    "        components = np.array([value, \"Male\", None, os.path.join(path, file)])\n",
    "        components.append(component)\n",
    "    \n",
    "        return dataset.loc[dataset['emotion'].isin(['negative', 'positive', 'neutral'])], \n",
    "    \n",
    "        #return pd.DataFrame(data=components, columns=['emotion','gender','subset','file_path']) "
   ]
  },
  {
   "cell_type": "markdown",
   "id": "8d9eb633",
   "metadata": {},
   "source": [
    "# Load Female Quaternair Combined"
   ]
  },
  {
   "cell_type": "code",
   "execution_count": 20,
   "id": "752872d2",
   "metadata": {},
   "outputs": [],
   "source": [
    "class QuaternairFemaleCombinedPN(Loader):\n",
    "    identifier = 'combined_quaternair_Female_Positive_Negative'\n",
    "    \n",
    "    @classmethod\n",
    "    def load_dataset(cls):\n",
    "        components = []\n",
    "        loaded_dataset_1 = NormalCrema.load_dataset()\n",
    "        loaded_dataset_2 = NormalRavdess.load_dataset()\n",
    "        loaded_dataset_3 = NormalSavee.load_dataset()\n",
    "        loaded_dataset_4 = NormalTess.load_dataset()\n",
    "        dataset = pd.concat([loaded_dataset_1, loaded_dataset_2, \n",
    "                             loaded_dataset_3, loaded_dataset_4], ignore_index=True, sort=False)\n",
    "        \n",
    "        for index, value in dataset.iterrows():\n",
    "            if value['emotion'] in ['ANG', 'angry', 'SAD', 'sad']:\n",
    "                value['emotion'] = 'negative'\n",
    "            elif value['emotion'] in ['HAP', 'happy', 'CAL', 'calm']:\n",
    "                value['emotion'] = 'positive'\n",
    "            elif value['emotion'] in ['NEU', 'neutral']:\n",
    "                value['emotion'] = 'neutral'\n",
    "                \n",
    "            components = np.array([value, \"Female\", None, os.path.join(path, file)])\n",
    "            components.append(component)\n",
    "            \n",
    "        return dataset.loc[dataset['emotion'].isin(['negative', 'positive', 'neutral'])], \n",
    "        #return pd.DataFrame(data=components, columns=['emotion','gender','subset','file_path'])"
   ]
  },
  {
   "cell_type": "markdown",
   "id": "83bd4b45",
   "metadata": {},
   "source": [
    "# Load Single Record"
   ]
  },
  {
   "cell_type": "code",
   "execution_count": 21,
   "id": "c854795e",
   "metadata": {},
   "outputs": [
    {
     "name": "stdout",
     "output_type": "stream",
     "text": [
      "      emotion gender    subset  \\\n",
      "0       happy   None      Test   \n",
      "1     fearful   None      Test   \n",
      "2     fearful   None      Test   \n",
      "3       angry   None      Test   \n",
      "4       happy   None      Test   \n",
      "...       ...    ...       ...   \n",
      "3763  fearful   None  Validate   \n",
      "3764    angry   None  Validate   \n",
      "3765  disgust   None  Validate   \n",
      "3766    happy   None  Validate   \n",
      "3767    angry   None  Validate   \n",
      "\n",
      "                                              file_path  \n",
      "0     /data/emo/notebooks/source/datasets/ravdess_sp...  \n",
      "1     /data/emo/notebooks/source/datasets/ravdess_sp...  \n",
      "2     /data/emo/notebooks/source/datasets/ravdess_sp...  \n",
      "3     /data/emo/notebooks/source/datasets/ravdess_sp...  \n",
      "4     /data/emo/notebooks/source/datasets/ravdess_sp...  \n",
      "...                                                 ...  \n",
      "3763  /data/emo/notebooks/source/datasets/ravdess_sp...  \n",
      "3764  /data/emo/notebooks/source/datasets/ravdess_sp...  \n",
      "3765  /data/emo/notebooks/source/datasets/ravdess_sp...  \n",
      "3766  /data/emo/notebooks/source/datasets/ravdess_sp...  \n",
      "3767  /data/emo/notebooks/source/datasets/ravdess_sp...  \n",
      "\n",
      "[3768 rows x 4 columns]\n"
     ]
    }
   ],
   "source": [
    "class SingleValue(Loader):\n",
    "    identifier = 'single_value'\n",
    "    \n",
    "    @classmethod\n",
    "    def load_dataset(cls):\n",
    "        components=[]\n",
    "        path = '/data/emo/notebooks/source/datasets/crema'\n",
    "        for file in os.listdir(path):\n",
    "            component = np.array(file.replace('.', '_').split('_'))\n",
    "#             component = np.array([component[2], None, None, os.path.join(path, file)])\n",
    "            component = np.array([\"Unknown\", None, None, os.path.join(path, file)])\n",
    "            components.append(component)\n",
    "            break\n",
    "\n",
    "\n",
    "\n",
    "            if component[0] in ['ANG', 'HAP', 'SAD', 'NEU']:\n",
    "                components.append(component) \n",
    "                break\n",
    "                \n",
    "        print(components)\n",
    "        return pd.DataFrame(data=components, columns=['emotion','gender','subset','file_path'])"
   ]
  }
 ],
 "metadata": {
  "kernelspec": {
   "display_name": "Python 3 (ipykernel)",
   "language": "python",
   "name": "python3"
  },
  "language_info": {
   "codemirror_mode": {
    "name": "ipython",
    "version": 3
   },
   "file_extension": ".py",
   "mimetype": "text/x-python",
   "name": "python",
   "nbconvert_exporter": "python",
   "pygments_lexer": "ipython3",
   "version": "3.9.7"
  }
 },
 "nbformat": 4,
 "nbformat_minor": 5
}
