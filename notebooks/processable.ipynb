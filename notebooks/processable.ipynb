{
 "cells": [
  {
   "cell_type": "code",
   "execution_count": 1,
   "id": "602c7867",
   "metadata": {},
   "outputs": [],
   "source": [
    "import numpy as np\n",
    "import pandas as pd\n",
    "import io, os, json\n",
    "import matplotlib.pyplot as plt\n",
    "import librosa\n",
    "import librosa.display\n",
    "from pydub import AudioSegment\n",
    "from pydub.utils import make_chunks\n",
    "from skimage.feature import hog\n",
    "import soundfile as sf\n",
    "\n",
    "%run /data/emo/notebooks/source/pipeline/augmenter.ipynb\n",
    "\n",
    "def append(value, obj):\n",
    "    result = obj if type(obj) is list else [obj]\n",
    "    values = [value.copy() for it in range(0, len(result))]\n",
    "    for i, v in enumerate(result): values[i]['feature'] = v\n",
    "    return values\n",
    "\n",
    "class Processable:\n",
    "    identifier = None\n",
    "    \n",
    "    @classmethod # process object (return list)\n",
    "    def process_object(cls, value): return []\n",
    "    \n",
    "    @classmethod # internal json generation\n",
    "    def _generate_json(cls, *args): return None\n",
    "    \n",
    "    @classmethod # internal audio processing\n",
    "    def _process_audio(cls, value): return None"
   ]
  },
  {
   "cell_type": "markdown",
   "id": "e0ada325",
   "metadata": {},
   "source": [
    "# Spectrogram Processable"
   ]
  },
  {
   "cell_type": "code",
   "execution_count": 2,
   "id": "0cbb0831",
   "metadata": {},
   "outputs": [],
   "source": [
    "class Spectrogram(Processable):\n",
    "    identifier = 'spectrogram'\n",
    "    image_size = (256, 128)\n",
    "    \n",
    "    @classmethod\n",
    "    def process_object(cls, value):\n",
    "        time_series, sample_rate = cls._process_audio(value)\n",
    "        return append(value, cls._generate_json(time_series, sample_rate))\n",
    "    \n",
    "    @classmethod\n",
    "    def _process_audio(cls, value):\n",
    "        x, sample_rate = librosa.load(value['file_path'], sr=None)\n",
    "        x, index = librosa.effects.trim(x, top_db=20)\n",
    "        \n",
    "        return x[x != 0], sample_rate\n",
    "    \n",
    "    @classmethod\n",
    "    def _generate_json(cls, *args):\n",
    "        io_buf, px = io.BytesIO(), 1/plt.rcParams['figure.dpi']\n",
    "        fsize = (px * cls.image_size[0], px * cls.image_size[1])\n",
    "        fig = plt.figure(figsize=fsize)\n",
    "        ax = plt.Axes(fig, [0., 0., 1., 1.])\n",
    "        ax.set_axis_off(); fig.add_axes(ax)\n",
    "        plt.specgram(args[0], Fs=args[1], cmap=\"jet\")\n",
    "        plt.savefig(io_buf, format='raw')\n",
    "        plt.close(fig); io_buf.seek(0)\n",
    "        buff = np.frombuffer(io_buf.getvalue(), dtype=np.uint8)\n",
    "        shape = (int(fig.bbox.bounds[3]), int(fig.bbox.bounds[2]), -1)\n",
    "        io_buf.close()\n",
    "        return np.reshape(buff, newshape=shape)[:,:,:3]"
   ]
  },
  {
   "cell_type": "markdown",
   "id": "8d2a10bb",
   "metadata": {},
   "source": [
    "# Chunked Processable"
   ]
  },
  {
   "cell_type": "code",
   "execution_count": 3,
   "id": "89156642",
   "metadata": {},
   "outputs": [],
   "source": [
    "class Chunked(Processable):\n",
    "    identifier = 'chunked'\n",
    "    chunk_length_ms = None\n",
    "    \n",
    "    @classmethod\n",
    "    def _process_audio(cls, value):\n",
    "        processed_audio = []\n",
    "        audio = AudioSegment.from_wav(value['file_path'])\n",
    "        for chunk in make_chunks(audio, cls.chunk_length_ms):\n",
    "            chunk_duration_ms = int(chunk.duration_seconds * 1000)\n",
    "            if chunk_duration_ms < cls.chunk_length_ms:\n",
    "                reverse_duration = cls.chunk_length_ms - chunk_duration_ms\n",
    "                chunk += make_chunks(audio.reverse(), reverse_duration)[0]\n",
    "            processed_audio.append((cls._process_segment(chunk), audio.frame_rate))\n",
    "        return processed_audio\n",
    "\n",
    "    @classmethod\n",
    "    def _process_segment(cls, segment):\n",
    "        samples = [s.get_array_of_samples() for s in segment.split_to_mono()]\n",
    "        audio_samples = np.array(samples).T.astype(np.float32)\n",
    "        audio_samples /= np.iinfo(samples[0].typecode).max\n",
    "        return audio_samples.reshape(-1)"
   ]
  },
  {
   "cell_type": "markdown",
   "id": "a2664cda",
   "metadata": {},
   "source": [
    "# Chunked Spectrogram Processable"
   ]
  },
  {
   "cell_type": "code",
   "execution_count": 4,
   "id": "4a612ddb",
   "metadata": {},
   "outputs": [],
   "source": [
    "class ChunkedSpectrogram(Chunked, Spectrogram):\n",
    "    identifier = 'chunked_spectrogram'\n",
    "    chunk_length_ms = 750\n",
    "    \n",
    "    @classmethod\n",
    "    def process_object(cls, value):\n",
    "        processed_objects = []\n",
    "        for time_series, sample_rate in cls._process_audio(value):\n",
    "            processed_objects.append(cls._generate_json(time_series, sample_rate))\n",
    "        return append(value, processed_objects)"
   ]
  },
  {
   "cell_type": "markdown",
   "id": "89ae5958",
   "metadata": {},
   "source": [
    "# Fixed Ratio Spectrogram Processable"
   ]
  },
  {
   "cell_type": "code",
   "execution_count": 5,
   "id": "dc03982d",
   "metadata": {},
   "outputs": [],
   "source": [
    "class FixedSpectrogram(Spectrogram):\n",
    "    identifier = 'fixed_spectrogram'\n",
    "\n",
    "    @classmethod\n",
    "    def _generate_json(cls, *args):\n",
    "        duration = librosa.get_duration(args[0], args[1])\n",
    "        io_buf, px = io.BytesIO(), 1/plt.rcParams['figure.dpi']\n",
    "        fig = plt.figure(figsize=(px * int(duration * 100), px * 128))\n",
    "        ax = plt.Axes(fig, [0., 0., 1., 1.])\n",
    "        ax.set_axis_off(); fig.add_axes(ax)\n",
    "        plt.specgram(args[0], Fs=args[1])\n",
    "        plt.savefig(io_buf, format='raw')\n",
    "        plt.close(fig); io_buf.seek(0)\n",
    "        buff = np.frombuffer(io_buf.getvalue(), dtype=np.uint8)\n",
    "        shape = (int(fig.bbox.bounds[3]), int(fig.bbox.bounds[2]), -1)\n",
    "        io_buf.close()\n",
    "        return np.reshape(buff, newshape=shape)[:,:,:3]"
   ]
  },
  {
   "cell_type": "markdown",
   "id": "719406e8",
   "metadata": {},
   "source": [
    "# HOG Processable"
   ]
  },
  {
   "cell_type": "code",
   "execution_count": 6,
   "id": "82f42661",
   "metadata": {},
   "outputs": [],
   "source": [
    "class HoG(Spectrogram):\n",
    "    identifier = 'hog'\n",
    "    \n",
    "    @classmethod\n",
    "    def _generate_json(cls, *args):\n",
    "        image = super()._generate_json(*args)\n",
    "        features = hog(image, orientations=8, pixels_per_cell=(4, 4), \n",
    "                       cells_per_block=(2, 2), multichannel=True)\n",
    "        return features"
   ]
  },
  {
   "cell_type": "markdown",
   "id": "c4149c30",
   "metadata": {},
   "source": [
    "# Clean Spec"
   ]
  },
  {
   "cell_type": "code",
   "execution_count": 7,
   "id": "e652dd83",
   "metadata": {},
   "outputs": [],
   "source": [
    "class CleanSpec(Spectrogram):\n",
    "    indentifier = 'Augmented Ravdess'\n",
    "    \n",
    "    @classmethod\n",
    "    def process_object(cls, value):\n",
    "        processed_objects = []\n",
    "        for time_series, sample_rate in cls._process_audio(value):\n",
    "            processed_objects.append(cls._generate_json(time_series, sample_rate))\n",
    "        return append(value, processed_objects)\n",
    "        \n",
    "    @classmethod\n",
    "    def _process_audio(cls, value):\n",
    "        x, sample_rate = librosa.load(value['file_path'], sr=None)\n",
    "        x, index = librosa.effects.trim(x, top_db=20)\n",
    "        augmented_audios = [(x, sample_rate)]\n",
    "        \n",
    "#         # Change pitch down\n",
    "#         augmented_audios.append((Augmenter.change_pitch(audio=x, sr=sample_rate), sample_rate))\n",
    "\n",
    "#         # Change pitch up\n",
    "#         augmented_audios.append((Augmenter.change_pitch(audio=x, sr=sample_rate, pitch_type=\"up\"), sample_rate))\n",
    "\n",
    "#         # Change speed slow\n",
    "#         augmented_audios.append((Augmenter.change_speed(audio=x), sample_rate))\n",
    "        \n",
    "#         # Change speed fast\n",
    "#         augmented_audios.append((Augmenter.change_speed(audio=x, speed_change=\"high\"), sample_rate))\n",
    "\n",
    "#         # Change speed & pitch down\n",
    "#         augmented_audios.append((Augmenter.change_speed_and_pitch(audio=x, sr=sample_rate), sample_rate))  \n",
    "\n",
    "#         # Change speed & pitch up\n",
    "#         augmented_audios.append((Augmenter.change_speed_and_pitch(audio=x, sr=sample_rate, pitch_type=\"up\"), sample_rate))  \n",
    "\n",
    "#         # Add distribution noise\n",
    "#         augmented_audios.append((Augmenter.add_distribution_noise(audio=x), sample_rate))\n",
    "        \n",
    "        return augmented_audios"
   ]
  },
  {
   "cell_type": "markdown",
   "id": "ab033979",
   "metadata": {},
   "source": [
    "# Household Spec"
   ]
  },
  {
   "cell_type": "code",
   "execution_count": 8,
   "id": "72171a63",
   "metadata": {},
   "outputs": [],
   "source": [
    "class Household(Processable):\n",
    "    identifier = 'household'\n",
    "    \n",
    "#     @classmethod\n",
    "#     def process_object(cls, value):\n",
    "#         processed_objects = []\n",
    "#         for time_series, sample_rate in cls._process_audio(value):\n",
    "#             processed_objects.append(cls._generate_json(time_series, sample_rate))\n",
    "#         return append(value, processed_objects)\n",
    "    \n",
    "    @classmethod\n",
    "    def _process_audio(cls, value):\n",
    "        x, sample_rate = librosa.load(value['file_path'], sr=44100)\n",
    "        x, index = librosa.effects.trim(x, top_db=20)\n",
    "        f = io.BytesIO()\n",
    "        sf.write(f, x, sample_rate, format='wav')\n",
    "        x, sample_rate = Augmenter.add_background_noise(f)\n",
    "        return Augmenter.add_background_noise(f)\n",
    "\n",
    "#     @classmethod\n",
    "#     def _process_audio(cls, value):\n",
    "#         x, sample_rate = librosa.load(value['file_path'], sr=44100)\n",
    "#         x, index = librosa.effects.trim(x, top_db=20)\n",
    "#         augmented_audios = [(x, sample_rate)]\n",
    "#         f = io.BytesIO()\n",
    "#         sf.write(f, x, sample_rate, format='wav')\n",
    "#         x, sample_rate = Augmenter.add_background_noise(f)\n",
    "#         augmented_audios.append((x, sample_rate))\n",
    "#         return augmented_audios"
   ]
  },
  {
   "cell_type": "markdown",
   "id": "0bd3525e",
   "metadata": {},
   "source": [
    "# Logaritmic Spectrogram"
   ]
  },
  {
   "cell_type": "code",
   "execution_count": 9,
   "id": "00a45c25",
   "metadata": {},
   "outputs": [],
   "source": [
    "class LogSpectrogram(Household):\n",
    "    identifier = 'log_spectrogram'\n",
    "    hop_length = 1024\n",
    "    image_size = (256, 128)\n",
    "    \n",
    "    @classmethod\n",
    "    def process_object(cls, value):\n",
    "        time_series, sample_rate = cls._process_audio(value)\n",
    "        return append(value, cls._generate_json(time_series, sample_rate))\n",
    "    \n",
    "#     @classmethod\n",
    "#     def _process_audio(cls, value):\n",
    "#         x, sample_rate = librosa.load(value['file_path'], sr=44100)\n",
    "#         x, index = librosa.effects.trim(x, top_db=20)\n",
    "#         return x, sample_rate\n",
    "    \n",
    "    @classmethod\n",
    "    def _generate_json(cls, *args):\n",
    "        io_buf, px = io.BytesIO(), 1/plt.rcParams['figure.dpi']\n",
    "        fsize = (px * cls.image_size[0], px * cls.image_size[1])\n",
    "        fig = plt.figure(figsize=fsize)\n",
    "        ax = plt.Axes(fig, [0., 0., 1., 1.])\n",
    "        ax.set_axis_off(); fig.add_axes(ax)\n",
    "        x = librosa.amplitude_to_db(np.abs(librosa.stft(args[0], hop_length=cls.hop_length)), ref=np.max)\n",
    "        librosa.display.specshow(x, sr=args[1], y_axis='log', hop_length=cls.hop_length, x_axis='time')\n",
    "        plt.savefig(io_buf, format='raw')\n",
    "        plt.close(fig); io_buf.seek(0)\n",
    "        buff = np.frombuffer(io_buf.getvalue(), dtype=np.uint8)\n",
    "        shape = (int(fig.bbox.bounds[3]), int(fig.bbox.bounds[2]), -1)\n",
    "        io_buf.close()\n",
    "        return np.reshape(buff, newshape=shape)[:,:,:3]"
   ]
  },
  {
   "cell_type": "markdown",
   "id": "8b51a7a5",
   "metadata": {},
   "source": [
    "# Fixed Ratio Log Spectrogram"
   ]
  },
  {
   "cell_type": "code",
   "execution_count": 10,
   "id": "e18a1f57",
   "metadata": {},
   "outputs": [],
   "source": [
    "class FixedLogSpectrogram(LogSpectrogram):\n",
    "    identifier = 'fixed_log_spectrogram'\n",
    "    \n",
    "    @classmethod\n",
    "    def _generate_json(cls, *args):\n",
    "        duration = librosa.get_duration(S=args[0], sr=args[1], hop_length=cls.hop_length)\n",
    "        io_buf, px = io.BytesIO(), 1/plt.rcParams['figure.dpi']\n",
    "        fig = plt.figure(figsize=(px * int(duration * 100), px * 128))\n",
    "        ax = plt.Axes(fig, [0., 0., 1., 1.])\n",
    "        ax.set_axis_off(); fig.add_axes(ax)\n",
    "        librosa.display.specshow(args[0], sr=args[1], y_axis='log', hop_length=cls.hop_length, x_axis='time')\n",
    "        plt.savefig(io_buf, format='raw')\n",
    "        plt.close(fig); io_buf.seek(0)\n",
    "        buff = np.frombuffer(io_buf.getvalue(), dtype=np.uint8)\n",
    "        shape = (int(fig.bbox.bounds[3]), int(fig.bbox.bounds[2]), -1)\n",
    "        io_buf.close()\n",
    "        return np.reshape(buff, newshape=shape)[:,:,:3]"
   ]
  }
 ],
 "metadata": {
  "kernelspec": {
   "display_name": "Python 3 (ipykernel)",
   "language": "python",
   "name": "python3"
  },
  "language_info": {
   "codemirror_mode": {
    "name": "ipython",
    "version": 3
   },
   "file_extension": ".py",
   "mimetype": "text/x-python",
   "name": "python",
   "nbconvert_exporter": "python",
   "pygments_lexer": "ipython3",
   "version": "3.9.7"
  }
 },
 "nbformat": 4,
 "nbformat_minor": 5
}
